{
 "cells": [
  {
   "cell_type": "code",
   "execution_count": 5,
   "id": "5c52a38a-1285-4bb5-ac0e-dd27899a69cc",
   "metadata": {},
   "outputs": [
    {
     "data": {
      "text/plain": [
       "<pymoo.visualization.scatter.Scatter at 0x7f596a208130>"
      ]
     },
     "execution_count": 5,
     "metadata": {},
     "output_type": "execute_result"
    },
    {
     "data": {
      "image/png": "[encoded data removed]",
      "text/plain": [
       "<Figure size 576x432 with 1 Axes>"
      ]
     },
     "metadata": {
      "needs_background": "light"
     },
     "output_type": "display_data"
    }
   ],
   "source": [
    "from pymoo.algorithms.moo.nsga2 import NSGA2\n",
    "from pymoo.factory import get_problem\n",
    "from pymoo.optimize import minimize\n",
    "from pymoo.visualization.scatter import Scatter\n",
    "from pymoo.problems.single.knapsack import create_random_knapsack_problem\n",
    "\n",
    "from pymoo.core.problem import Problem\n",
    "from pymoo.factory import get_algorithm, get_crossover, get_mutation, get_sampling\n",
    "problem = create_random_knapsack_problem(25, variant=\"multi\", )\n",
    "\n",
    "class AcquisistionProblem(Problem):\n",
    "    def __init__(self, n_var, n_obj, xl, xu, n_vertices, acquisition_func, surrogate_models, reference_list, inference_samples_list, partition_samples_list, isKnapsack=False):\n",
    "        if isKnapsack:\n",
    "            n_constr = 1\n",
    "        else:\n",
    "            n_constr = 0\n",
    "        super().__init__(n_var, n_obj, n_constr, xl, xu, stype_var=int)\n",
    "        self.isKnapsack = isKnapsack\n",
    "        if self.isKnapsack:\n",
    "            self.n_obj = n_obj - 1\n",
    "        self.n_vertices = n_vertices\n",
    "        self.acquisition_func = acquisition_func\n",
    "        self.surrogate_models = surrogate_models\n",
    "        self.reference_list = reference_list\n",
    "        self.inference_samples_list = inference_samples_list\n",
    "        self.partition_samples_list = partition_samples_list\n",
    "        \n",
    "    def _evaluate(self, x, out, *args, **kwargs):\n",
    "        out[\"F\"] = []\n",
    "        \n",
    "        results = []\n",
    "        for idx, surr_model in enumerate(self.surrogate_models):\n",
    "            acq_value = acquisition_expectation(torch.tensor(x), self.inference_samples_list[idx], \\\n",
    "                                        self.partition_samples_list[idx], self.n_vertices, \\\n",
    "                                                self.acquisition_func, self.reference_list[idx])\n",
    "            results.append(acq_value)\n",
    "        if not self.isKnapsack:\n",
    "            out[\"F\"] = np.stack(results, axis=1).reshape(-1, self.n_obj)\n",
    "        else:\n",
    "            out[\"F\"] = np.stack(results[:-1], axis=1).reshape(-1, self.n_obj)\n",
    "            out[\"G\"] = results[-1].reshape(-1, )\n",
    "            \n",
    "\n",
    "algorithm = NSGA2(pop_size=20,sampling=get_sampling(\"int_random\"),\n",
    "                       crossover=get_crossover(\"int_sbx\", prob=1.0, eta=3.0),\n",
    "                       mutation=get_mutation(\"int_pm\", eta=3.0),\n",
    "                       eliminate_duplicates=True)\n",
    "\n",
    "res_50 = minimize(problem,\n",
    "               algorithm,\n",
    "               ('n_gen', 10),\n",
    "               seed=1,\n",
    "               verbose=False)\n",
    "import pickle \n",
    "\n",
    "with open('result_cmmo.pkl', 'rb') as f:\n",
    "    data = pickle.load(f)\n",
    "\n",
    "res = data['res']\n",
    "# res_100 = minimize(problem,\n",
    "#                algorithm,\n",
    "#                ('n_gen', 20),\n",
    "#                seed=1,\n",
    "#                verbose=False)\n",
    "# res_400 = minimize(problem,\n",
    "#                algorithm,\n",
    "#                ('n_gen', 30),\n",
    "#                seed=1,\n",
    "#                verbose=False)\n",
    "plot = Scatter()\n",
    "# plot.add(problem.pareto_front(), plot_type=\"line\", color=\"black\", alpha=0.7)\n",
    "plot.add(res_50.F, facecolor=\"none\", edgecolor=\"red\")\n",
    "plot.add(res.F, facecolor=\"none\", edgecolor=\"blue\")\n",
    "plot.show()"
   ]
  },
  {
   "cell_type": "code",
   "execution_count": 1,
   "id": "e0a2d7d9-1122-4192-b37c-b4a15fbe43f0",
   "metadata": {},
   "outputs": [
    {
     "name": "stdout",
     "output_type": "stream",
     "text": [
      "# name: MultiObjectiveKnapsack\n",
      "# n_var: 50\n",
      "# n_obj: 2\n",
      "# n_constr: 1\n",
      "\n",
      "Start the optimizer\n",
      "# name: MultiObjectiveKnapsack\n",
      "# n_var: 50\n",
      "# n_obj: 2\n",
      "# n_constr: 1\n",
      "\n",
      "========== Framework Description ==========\n",
      "# algorithm: USEMO_EI\n",
      "# surrogate: GaussianProcess\n",
      "# acquisition: EI\n",
      "# solver: NSGA2Solver\n",
      "# selection: Uncertainty\n",
      "\n",
      "========== Iteration 0 ==========\n",
      "Surrogate model fitted: 2.33s\n",
      "Surrogate problem solved: 0.25s\n",
      "Next sample batch selected: 0.00s\n"
     ]
    },
    {
     "name": "stderr",
     "output_type": "stream",
     "text": [
      "/mnt/c/Users/La Loc/Desktop/network_optimization_framework/MMO/mobo/mobo.py:67: VisibleDeprecationWarning: Creating an ndarray from ragged nested sequences (which is a list-or-tuple of lists-or-tuples-or ndarrays with different lengths or shapes) is deprecated. If you meant to do this, you must specify 'dtype=object' when creating the ndarray.\n",
      "  Y = np.array(Y).reshape(-1, 1)\n"
     ]
    },
    {
     "ename": "ValueError",
     "evalue": "could not broadcast input array from shape (10,2) into shape (10,)",
     "output_type": "error",
     "traceback": [
      "\u001b[0;31m---------------------------------------------------------------------------\u001b[0m",
      "\u001b[0;31mValueError\u001b[0m                                Traceback (most recent call last)",
      "Input \u001b[0;32mIn [1]\u001b[0m, in \u001b[0;36m<cell line: 63>\u001b[0;34m()\u001b[0m\n\u001b[1;32m     60\u001b[0m     \u001b[38;5;28;01mif\u001b[39;00m logger \u001b[38;5;129;01mis\u001b[39;00m \u001b[38;5;129;01mnot\u001b[39;00m \u001b[38;5;28;01mNone\u001b[39;00m:\n\u001b[1;32m     61\u001b[0m         logger\u001b[38;5;241m.\u001b[39mclose()\n\u001b[0;32m---> 63\u001b[0m \u001b[43mmain\u001b[49m\u001b[43m(\u001b[49m\u001b[43m)\u001b[49m\n",
      "Input \u001b[0;32mIn [1]\u001b[0m, in \u001b[0;36mmain\u001b[0;34m()\u001b[0m\n\u001b[1;32m     47\u001b[0m     \u001b[38;5;66;03m# export true Pareto front to csv\u001b[39;00m\n\u001b[1;32m     48\u001b[0m \u001b[38;5;66;03m#     if true_pfront is not None:\u001b[39;00m\n\u001b[1;32m     49\u001b[0m \u001b[38;5;66;03m#         exporter.write_truefront_csv(true_pfront)\u001b[39;00m\n\u001b[1;32m     51\u001b[0m     \u001b[38;5;28;01mfor\u001b[39;00m _ \u001b[38;5;129;01min\u001b[39;00m \u001b[38;5;28mrange\u001b[39m(args\u001b[38;5;241m.\u001b[39mn_iter):\n\u001b[1;32m     52\u001b[0m         \u001b[38;5;66;03m# get new design samples and corresponding performance\u001b[39;00m\n\u001b[0;32m---> 53\u001b[0m         X_next, Y_next, _ \u001b[38;5;241m=\u001b[39m \u001b[38;5;28;43mnext\u001b[39;49m\u001b[43m(\u001b[49m\u001b[43msolution\u001b[49m\u001b[43m)\u001b[49m\n\u001b[1;32m     55\u001b[0m         \u001b[38;5;66;03m# update & export current status to csv\u001b[39;00m\n\u001b[1;32m     56\u001b[0m         exporter\u001b[38;5;241m.\u001b[39mupdate(X_next, Y_next)\n",
      "File \u001b[0;32m/mnt/c/Users/La Loc/Desktop/network_optimization_framework/MMO/mobo/mobo.py:116\u001b[0m, in \u001b[0;36mMOBO.solve\u001b[0;34m(self, X_init, Y_init)\u001b[0m\n\u001b[1;32m    114\u001b[0m \u001b[38;5;66;03m# update dataset\u001b[39;00m\n\u001b[1;32m    115\u001b[0m Y_next \u001b[38;5;241m=\u001b[39m \u001b[38;5;28mself\u001b[39m\u001b[38;5;241m.\u001b[39mreal_problem\u001b[38;5;241m.\u001b[39mevaluate(X_next)\n\u001b[0;32m--> 116\u001b[0m \u001b[38;5;28;43mself\u001b[39;49m\u001b[38;5;241;43m.\u001b[39;49m\u001b[43m_update_status\u001b[49m\u001b[43m(\u001b[49m\u001b[43mX_next\u001b[49m\u001b[43m,\u001b[49m\u001b[43m \u001b[49m\u001b[43mY_next\u001b[49m\u001b[43m)\u001b[49m\n\u001b[1;32m    117\u001b[0m timer\u001b[38;5;241m.\u001b[39mlog(\u001b[38;5;124m'\u001b[39m\u001b[38;5;124mNew samples evaluated\u001b[39m\u001b[38;5;124m'\u001b[39m)\n\u001b[1;32m    119\u001b[0m \u001b[38;5;66;03m# statistics\u001b[39;00m\n",
      "File \u001b[0;32m/mnt/c/Users/La Loc/Desktop/network_optimization_framework/MMO/mobo/mobo.py:67\u001b[0m, in \u001b[0;36mMOBO._update_status\u001b[0;34m(self, X, Y)\u001b[0m\n\u001b[1;32m     65\u001b[0m \u001b[38;5;28;01melse\u001b[39;00m:\n\u001b[1;32m     66\u001b[0m     \u001b[38;5;28mself\u001b[39m\u001b[38;5;241m.\u001b[39mX \u001b[38;5;241m=\u001b[39m np\u001b[38;5;241m.\u001b[39mvstack([\u001b[38;5;28mself\u001b[39m\u001b[38;5;241m.\u001b[39mX, X])\n\u001b[0;32m---> 67\u001b[0m     Y \u001b[38;5;241m=\u001b[39m \u001b[43mnp\u001b[49m\u001b[38;5;241;43m.\u001b[39;49m\u001b[43marray\u001b[49m\u001b[43m(\u001b[49m\u001b[43mY\u001b[49m\u001b[43m)\u001b[49m\u001b[38;5;241m.\u001b[39mreshape(\u001b[38;5;241m-\u001b[39m\u001b[38;5;241m1\u001b[39m, \u001b[38;5;241m1\u001b[39m)\n\u001b[1;32m     68\u001b[0m     \u001b[38;5;28mself\u001b[39m\u001b[38;5;241m.\u001b[39mY \u001b[38;5;241m=\u001b[39m np\u001b[38;5;241m.\u001b[39mvstack([\u001b[38;5;28mself\u001b[39m\u001b[38;5;241m.\u001b[39mY, Y])\n\u001b[1;32m     69\u001b[0m \u001b[38;5;28mself\u001b[39m\u001b[38;5;241m.\u001b[39msample_num \u001b[38;5;241m+\u001b[39m\u001b[38;5;241m=\u001b[39m \u001b[38;5;28mlen\u001b[39m(X)\n",
      "\u001b[0;31mValueError\u001b[0m: could not broadcast input array from shape (10,2) into shape (10,)"
     ]
    }
   ],
   "source": [
    "import os\n",
    "os.environ['OMP_NUM_THREADS'] = '1' # speed up\n",
    "import numpy as np\n",
    "from MMO.problems.common import build_problem\n",
    "from MMO.mobo.algorithms import get_algorithm\n",
    "from MMO.visualization.data_export import DataExport\n",
    "from MMO.arguments import get_args\n",
    "from MMO.utils import save_args, setup_logger\n",
    "import networkx as nx\n",
    "import random, pickle, string\n",
    "import time\n",
    "import os, sys\n",
    "from random import randint, shuffle, sample\n",
    "\n",
    "sys.setrecursionlimit(2000000)\n",
    "MAX_COUNT_INDEX = 3001946 # 3001946 3001946\n",
    "from pymoo.optimize import minimize\n",
    "from pymoo.algorithms.moo.nsga2 import NSGA2\n",
    "\n",
    "import matplotlib.pyplot as pl\n",
    "\n",
    "def main():\n",
    "    args, framework_args = get_args()\n",
    "    \n",
    "    # set seed\n",
    "    np.random.seed(args.seed)\n",
    "    \n",
    "    \n",
    "    problem, pareto_front, X_init, Y_init = build_problem(args.problem, args.n_var, args.n_obj, args.n_init_sample, args.n_process)\n",
    "    print(problem)\n",
    "    args.n_var, args.n_obj = problem.n_var, problem.n_obj\n",
    "    print(\"Start the optimizer\")\n",
    "    # initialize optimizer\n",
    "    optimizer = get_algorithm(args.algo)(problem, args.n_iter, args.ref_point, framework_args)\n",
    "\n",
    "    # save arguments & setup logger\n",
    "    save_args(args, framework_args)\n",
    "    logger = setup_logger(args)\n",
    "    print(problem, optimizer, sep='\\n')\n",
    "    \n",
    "    # initialize data exporter\n",
    "    exporter = DataExport(optimizer, X_init, Y_init, args)\n",
    "\n",
    "    # optimization\n",
    "    solution = optimizer.solve(X_init, Y_init)\n",
    "\n",
    "    # export true Pareto front to csv\n",
    "#     if true_pfront is not None:\n",
    "#         exporter.write_truefront_csv(true_pfront)\n",
    "\n",
    "    for _ in range(args.n_iter):\n",
    "        # get new design samples and corresponding performance\n",
    "        X_next, Y_next, _ = next(solution)\n",
    "        \n",
    "        # update & export current status to csv\n",
    "        exporter.update(X_next, Y_next)\n",
    "        exporter.write_csvs()\n",
    "\n",
    "    # close logger\n",
    "    if logger is not None:\n",
    "        logger.close()\n",
    "\n",
    "main()\n"
   ]
  },
  {
   "cell_type": "code",
   "execution_count": null,
   "id": "a26a08a9-84ce-430f-a7f2-11cde692a86b",
   "metadata": {},
   "outputs": [],
   "source": []
  },
  {
   "cell_type": "code",
   "execution_count": null,
   "id": "b8cc9d5d-e63a-463d-9354-99da0707e1f2",
   "metadata": {},
   "outputs": [],
   "source": []
  }
 ],
 "metadata": {
  "kernelspec": {
   "display_name": "Python 3 (ipykernel)",
   "language": "python",
   "name": "python3"
  },
  "language_info": {
   "codemirror_mode": {
    "name": "ipython",
    "version": 3
   },
   "file_extension": ".py",
   "mimetype": "text/x-python",
   "name": "python",
   "nbconvert_exporter": "python",
   "pygments_lexer": "ipython3",
   "version": "3.8.10"
  }
 },
 "nbformat": 4,
 "nbformat_minor": 5
}
