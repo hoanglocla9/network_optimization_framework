{
 "cells": [
  {
   "cell_type": "code",
   "execution_count": 1,
   "id": "5c52a38a-1285-4bb5-ac0e-dd27899a69cc",
   "metadata": {},
   "outputs": [
    {
     "name": "stderr",
     "output_type": "stream",
     "text": [
      "/home/picarib/.local/lib/python3.8/site-packages/tqdm/auto.py:22: TqdmWarning: IProgress not found. Please update jupyter and ipywidgets. See https://ipywidgets.readthedocs.io/en/stable/user_install.html\n",
      "  from .autonotebook import tqdm as notebook_tqdm\n"
     ]
    },
    {
     "name": "stdout",
     "output_type": "stream",
     "text": [
      "Start stage\n",
      "** Start parallel\n",
      "Done stage\n",
      "[[0, 10], [0, 10], [0, 10], [0, 10], [0, 10], [0, 10], [0, 10], [0, 10], [0, 10], [0, 10], [0, 10], [0, 10], [0, 10], [0, 10], [0, 10], [0, 10], [0, 10], [0, 10], [0, 10]]\n"
     ]
    },
    {
     "name": "stderr",
     "output_type": "stream",
     "text": [
      "/home/picarib/.local/lib/python3.8/site-packages/botorch/test_functions/base.py:152: UserWarning: To copy construct from a tensor, it is recommended to use sourceTensor.clone().detach() or sourceTensor.clone().detach().requires_grad_(True), rather than torch.tensor(sourceTensor).\n",
      "  ref_point = torch.tensor(self._ref_point, dtype=torch.float)\n"
     ]
    }
   ],
   "source": [
    "from  problem.network_optimization.topology import NetTopology\n",
    "from problem.network_optimization.problem import *\n",
    "\n",
    "tempCacheInfo = {'Sydney1': {'size': 100, 'type': 'LRU'}, 'Brisbane2': {'size': 100, 'type': 'LRU'}, 'Canberra1': {'size': 100, 'type': 'LRU'}, \\\n",
    "                 'Sydney2': {'size': 100, 'type': 'LRU'}, 'Townsville': {'size': 100, 'type': 'LRU'}, 'Cairns': {'size': 100, 'type': 'LRU'}, \\\n",
    "                 'Brisbane1': {'size': 100, 'type': 'LRU'}, 'Rockhampton': {'size': 100, 'type': 'LRU'}, 'Armidale': {'size': 100, 'type': 'LRU'}, \\\n",
    "                 'Hobart': {'size': 100, 'type': 'LRU'}, 'Canberra2': {'size': 100, 'type': 'LRU'}, 'Perth1': {'size': 100, 'type': 'LRU'}, \\\n",
    "                 'Perth2': {'size': 100, 'type': 'LRU'}, 'Adelaide1': {'size': 100, 'type': 'LRU'}, 'Adelaide2': {'size': 100, 'type': 'LRU'}, \\\n",
    "                 'Melbourne1': {'size': 100, 'type': 'LRU'}, 'Melbourne2': {'size': 100, 'type': 'LRU'}, 'Alice Springs': {'size': 100, 'type': 'LRU'}, \\\n",
    "                 'Darwin': {'size': 100, 'type': 'LRU'}}\n",
    "tkwargs = {\n",
    "    \"dtype\": torch.double,\n",
    "    \"device\": torch.device(\"cuda:0\" if torch.cuda.is_available() else \"cpu\"),\n",
    "}\n",
    "topology = NetTopology('topology/Aarnet.gml', 'Sydney1', cacheDictInfo=tempCacheInfo)\n",
    "problem = CDNOptimizationProblem(topology, runReqNums=1000, tkwargs=tkwargs, dim=len(topology.graph.nodes))\n"
   ]
  },
  {
   "cell_type": "code",
   "execution_count": 4,
   "id": "e0a2d7d9-1122-4192-b37c-b4a15fbe43f0",
   "metadata": {},
   "outputs": [],
   "source": [
    "def generate_cache_info(graph):\n",
    "    result = {}\n",
    "    for node in graph.nodes:\n",
    "        result[node] = {'size': 100, 'type': 'LRU'}\n",
    "    return result\n",
    "print(generate_cache_info(topology.graph))"
   ]
  },
  {
   "cell_type": "code",
   "execution_count": 6,
   "id": "a26a08a9-84ce-430f-a7f2-11cde692a86b",
   "metadata": {},
   "outputs": [
    {
     "name": "stdout",
     "output_type": "stream",
     "text": [
      "['topology/Nordu2005.gml', 'topology/Myren.gml', 'topology/Sanet.gml', 'topology/KentmanJul2005.gml', 'topology/Aarnet.gml', 'topology/Bandcon.gml', 'topology/Garr201001.gml', 'topology/Heanet.gml', 'topology/Renater2010.gml', 'topology/Arpanet19706.gml', 'topology/Cesnet1997.gml', 'topology/Darkstrand.gml', 'topology/Padi.gml', 'topology/Globenet.gml', 'topology/Iris.gml', 'topology/Nordu1997.gml', 'topology/Ai3.gml', 'topology/Garr201008.gml', 'topology/Bren.gml', 'topology/Garr201010.gml', 'topology/Garr201109.gml', 'topology/KentmanJan2011.gml', 'topology/Geant2012.gml', 'topology/Interoute.gml', 'topology/Marwan.gml', 'topology/GtsPoland.gml', 'topology/Palmetto.gml', 'topology/Belnet2010.gml', 'topology/Roedunet.gml', 'topology/BeyondTheNetwork.gml', 'topology/Ntt.gml', 'topology/BtLatinAmerica.gml', 'topology/Amres.gml', 'topology/Carnet.gml', 'topology/Chinanet.gml', 'topology/Belnet2007.gml', 'topology/Intellifiber.gml', 'topology/Ernet.gml', 'topology/Garr200404.gml', 'topology/DialtelecomCz.gml', 'topology/Bbnplanet.gml', 'topology/Garr201110.gml', 'topology/Rediris.gml', 'topology/Uninett2011.gml', 'topology/Janetbackbone.gml', 'topology/Jgn2Plus.gml', 'topology/Noel.gml', 'topology/Tinet.gml', 'topology/Psinet.gml', 'topology/Garr200908.gml', 'topology/Litnet.gml', 'topology/Renater2008.gml', 'topology/Reuna.gml', 'topology/Arpanet19723.gml', 'topology/Azrena.gml', 'topology/BsonetEurope.gml', 'topology/Renam.gml', 'topology/Goodnet.gml', 'topology/York.gml', 'topology/EliBackbone.gml', 'topology/NetworkUsa.gml', 'topology/Cesnet200304.gml', 'topology/Garr200109.gml', 'topology/Garr201007.gml', 'topology/Canerie.gml', 'topology/HostwayInternational.gml', 'topology/GtsSlovakia.gml', 'topology/Oxford.gml', 'topology/Arnes.gml', 'topology/Agis.gml', 'topology/Mren.gml', 'topology/Gridnet.gml', 'topology/Compuserve.gml', 'topology/PionierL1.gml', 'topology/Ilan.gml', 'topology/Garr201101.gml', 'topology/Pern.gml', 'topology/Ntelos.gml', 'topology/Kdl.gml', 'topology/Claranet.gml', 'topology/Xeex.gml', 'topology/Garr201103.gml', 'topology/KentmanFeb2008.gml', 'topology/Napnet.gml', 'topology/Zamren.gml', 'topology/Garr201005.gml', 'topology/Arpanet196912.gml', 'topology/HiberniaNireland.gml', 'topology/Garr199901.gml', 'topology/Garr201112.gml', 'topology/Cesnet201006.gml', 'topology/TLex.gml', 'topology/Nextgen.gml', 'topology/BtEurope.gml', 'topology/Layer42.gml', 'topology/Deltacom.gml', 'topology/Ibm.gml', 'topology/Renater2006.gml', 'topology/Globalcenter.gml', 'topology/Cesnet1993.gml', 'topology/Epoch.gml', 'topology/Syringa.gml', 'topology/GtsCe.gml', 'topology/VtlWavenet2011.gml', 'topology/DeutscheTelekom.gml', 'topology/UsSignal.gml', 'topology/Spiralight.gml', 'topology/Easynet.gml', 'topology/Uninet.gml', 'topology/Belnet2008.gml', 'topology/Getnet.gml', 'topology/Navigata.gml', 'topology/Funet.gml', 'topology/Forthnet.gml', 'topology/UniC.gml', 'topology/Cernet.gml', 'topology/Cogentco.gml', 'topology/BtNorthAmerica.gml', 'topology/RedBestel.gml', 'topology/HiberniaUk.gml', 'topology/Dataxchange.gml', 'topology/Gblnet.gml', 'topology/Garr201012.gml', 'topology/Belnet2005.gml', 'topology/Marnet.gml', 'topology/Garr201201.gml', 'topology/Arpanet19728.gml', 'topology/Pacificwave.gml', 'topology/Garr200212.gml', 'topology/KentmanAug2005.gml', 'topology/Bellsouth.gml', 'topology/Iinet.gml', 'topology/Bellcanada.gml', 'topology/Renater2001.gml', 'topology/Switch.gml', 'topology/Peer1.gml', 'topology/Ans.gml', 'topology/Cesnet200511.gml', 'topology/Restena.gml', 'topology/Uran.gml', 'topology/Arpanet19719.gml', 'topology/Xspedius.gml', 'topology/Vinaren.gml', 'topology/Belnet2009.gml', 'topology/HiberniaUs.gml', 'topology/Harnet.gml', 'topology/Sanren.gml', 'topology/Dfn.gml', 'topology/Cudi.gml', 'topology/Highwinds.gml', 'topology/Telecomserbia.gml', 'topology/Fccn.gml', 'topology/Aconet.gml', 'topology/Ion.gml', 'topology/Fatman.gml', 'topology/Renater1999.gml', 'topology/Garr199905.gml', 'topology/Renater2004.gml', 'topology/Singaren.gml', 'topology/Nsfnet.gml', 'topology/Airtel.gml', 'topology/Uunet.gml', 'topology/Cynet.gml', 'topology/Nordu1989.gml', 'topology/Cesnet2001.gml', 'topology/Ulaknet.gml', 'topology/Atmnet.gml', 'topology/RoedunetFibre.gml', 'topology/AttMpls.gml', 'topology/Abvt.gml', 'topology/Garr201107.gml', 'topology/Sinet.gml', 'topology/Itnet.gml', 'topology/Garr201102.gml', 'topology/JanetExternal.gml', 'topology/AsnetAm.gml', 'topology/Columbus.gml', 'topology/Missouri.gml', 'topology/Latnet.gml', 'topology/BtAsiaPac.gml', 'topology/Belnet2006.gml', 'topology/Digex.gml', 'topology/Twaren.gml', 'topology/Cesnet200706.gml', 'topology/Grnet.gml', 'topology/LambdaNet.gml', 'topology/Eunetworks.gml', 'topology/GtsRomania.gml', 'topology/Garr201108.gml', 'topology/Sago.gml', 'topology/Rhnet.gml', 'topology/SwitchL3.gml', 'topology/Garr201105.gml', 'topology/Grena.gml', 'topology/Quest.gml', 'topology/CrlNetworkServices.gml', 'topology/Belnet2003.gml', 'topology/Evolink.gml', 'topology/Gambia.gml', 'topology/Garr201004.gml', 'topology/Cesnet200603.gml', 'topology/Niif.gml', 'topology/HurricaneElectric.gml', 'topology/Garr199904.gml', 'topology/Garr200112.gml', 'topology/Istar.gml', 'topology/Nsfcnet.gml', 'topology/HiberniaCanada.gml', 'topology/Garr201003.gml', 'topology/Garr200912.gml', 'topology/Biznet.gml', 'topology/Rnp.gml', 'topology/Netrail.gml', 'topology/Sprint.gml', 'topology/Geant2010.gml', 'topology/GtsCzechRepublic.gml', 'topology/PionierL3.gml', 'topology/WideJpn.gml', 'topology/Tw.gml', 'topology/Geant2009.gml', 'topology/Iij.gml', 'topology/Cwix.gml', 'topology/Cesnet1999.gml', 'topology/Internetmci.gml', 'topology/Surfnet.gml', 'topology/Basnet.gml', 'topology/Colt.gml', 'topology/Savvis.gml', 'topology/Nordu2010.gml', 'topology/GtsHungary.gml', 'topology/TataNld.gml', 'topology/Geant2001.gml', 'topology/VisionNet.gml', 'topology/Telcove.gml', 'topology/IowaStatewideFiberMap.gml', 'topology/Arn.gml', 'topology/Oteglobe.gml', 'topology/VtlWavenet2008.gml', 'topology/Internode.gml', 'topology/Uninett2010.gml', 'topology/Garr200902.gml', 'topology/Bics.gml', 'topology/UsCarrier.gml', 'topology/Garr200909.gml', 'topology/Garr201104.gml', 'topology/Esnet.gml', 'topology/Garr201111.gml', 'topology/Eenet.gml', 'topology/Karen.gml', 'topology/KentmanApr2007.gml', 'topology/Janetlense.gml', 'topology/Intranetwork.gml', 'topology/HiberniaGlobal.gml', 'topology/Integra.gml', 'topology/Packetexchange.gml', 'topology/Belnet2004.gml', 'topology/Sunet.gml', 'topology/Abilene.gml', 'topology/Shentel.gml', 'topology/HiberniaIreland.gml', 'topology/Kreonet.gml']\n",
      "92\n"
     ]
    }
   ],
   "source": [
    "import networkx as nx\n",
    "import glob\n",
    "list_file = glob.glob(\"topology/*.gml\")\n",
    "max_topo_len = 0\n",
    "max_topo = None\n",
    "for file in list_file:\n",
    "    try:\n",
    "        graph = nx.read_gml(file)\n",
    "    except:\n",
    "        continue\n",
    "    if max_topo_len < len(graph.nodes):\n",
    "        max_topo_len = len(graph.nodes)\n",
    "        max_topo = file\n",
    "print(max_topo)\n",
    "print(max_topo_len)"
   ]
  },
  {
   "cell_type": "code",
   "execution_count": null,
   "id": "b8cc9d5d-e63a-463d-9354-99da0707e1f2",
   "metadata": {},
   "outputs": [],
   "source": []
  }
 ],
 "metadata": {
  "kernelspec": {
   "display_name": "Python 3 (ipykernel)",
   "language": "python",
   "name": "python3"
  },
  "language_info": {
   "codemirror_mode": {
    "name": "ipython",
    "version": 3
   },
   "file_extension": ".py",
   "mimetype": "text/x-python",
   "name": "python",
   "nbconvert_exporter": "python",
   "pygments_lexer": "ipython3",
   "version": "3.8.10"
  }
 },
 "nbformat": 4,
 "nbformat_minor": 5
}
