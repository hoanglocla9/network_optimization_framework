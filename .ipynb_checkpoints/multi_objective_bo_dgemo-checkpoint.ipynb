{
 "cells": [
  {
   "cell_type": "code",
   "execution_count": null,
   "id": "8c347615-0593-4931-9422-bb210f72a4ce",
   "metadata": {},
   "outputs": [
    {
     "name": "stderr",
     "output_type": "stream",
     "text": [
      "Matplotlib created a temporary config/cache directory at /tmp/matplotlib-sya1vtkr because the default path (/home/picarib/.config/matplotlib) is not a writable directory; it is highly recommended to set the MPLCONFIGDIR environment variable to a writable directory, in particular to speed up the import of Matplotlib and to better support multiprocessing.\n"
     ]
    }
   ],
   "source": [
    "import os\n",
    "os.environ['OMP_NUM_THREADS'] = '1' # speed up\n",
    "import numpy as np\n",
    "from MMO.problems.common import build_problem\n",
    "from MMO.mobo.algorithms import get_algorithm\n",
    "from MMO.visualization.data_export import DataExport\n",
    "from MMO.arguments import get_args\n",
    "from MMO.utils import save_args, setup_logger\n",
    "import networkx as nx\n",
    "import random, pickle, string\n",
    "import time\n",
    "import os, sys\n",
    "from random import randint, shuffle, sample\n",
    "\n",
    "sys.setrecursionlimit(2000000)\n",
    "MAX_COUNT_INDEX = 3001946 # 3001946 3001946\n",
    "from pymoo.optimize import minimize\n",
    "from pymoo.algorithms.nsga2 import NSGA2\n",
    "from pymoo.algorithms.moead import MOEAD\n",
    "\n",
    "import matplotlib.pyplot as pl\n",
    "from  problem.network_optimization.topology import NetTopology\n",
    "\n",
    "def main():\n",
    "   \n",
    "    # load arguments\n",
    "    args, framework_args = get_args()\n",
    "    \n",
    "    # set seed\n",
    "    np.random.seed(args.seed)\n",
    "    tempCacheInfo = {'Sydney1': {'size': 100, 'type': 'LRU'}, 'Brisbane2': {'size': 100, 'type': 'LRU'}, 'Canberra1': {'size': 100, 'type': 'LRU'}, \\\n",
    "                 'Sydney2': {'size': 100, 'type': 'LRU'}, 'Townsville': {'size': 100, 'type': 'LRU'}, 'Cairns': {'size': 100, 'type': 'LRU'}, \\\n",
    "                 'Brisbane1': {'size': 100, 'type': 'LRU'}, 'Rockhampton': {'size': 100, 'type': 'LRU'}, 'Armidale': {'size': 100, 'type': 'LRU'}, \\\n",
    "                 'Hobart': {'size': 100, 'type': 'LRU'}, 'Canberra2': {'size': 100, 'type': 'LRU'}, 'Perth1': {'size': 100, 'type': 'LRU'}, \\\n",
    "                 'Perth2': {'size': 100, 'type': 'LRU'}, 'Adelaide1': {'size': 100, 'type': 'LRU'}, 'Adelaide2': {'size': 100, 'type': 'LRU'}, \\\n",
    "                 'Melbourne1': {'size': 100, 'type': 'LRU'}, 'Melbourne2': {'size': 100, 'type': 'LRU'}, 'Alice Springs': {'size': 100, 'type': 'LRU'}, \\\n",
    "                 'Darwin': {'size': 100, 'type': 'LRU'}}\n",
    "    bounds = [1, 100]\n",
    "    topology = NetTopology('topology/Aarnet.gml', 'Sydney1', cacheDictInfo=tempCacheInfo)\n",
    "    runReqNums = 1000\n",
    "    # build problem, get initial samples\n",
    "    extra_params = {'topo': topology, \"runReqNums\": runReqNums}\n",
    "    \n",
    "    problem, pareto_front, X_init, Y_init = build_problem(args.problem, args.n_var, args.n_obj, args.n_init_sample, args.n_process, extra_params=extra_params)\n",
    "    \n",
    "    args.n_var, args.n_obj = problem.n_var, problem.n_obj\n",
    "    print(\"Start the optimizer\")\n",
    "    # initialize optimizer\n",
    "    optimizer = get_algorithm(args.algo)(problem, args.n_iter, args.ref_point, framework_args)\n",
    "\n",
    "    # save arguments & setup logger\n",
    "    save_args(args, framework_args)\n",
    "    logger = setup_logger(args)\n",
    "    print(problem, optimizer, sep='\\n')\n",
    "    \n",
    "    # initialize data exporter\n",
    "    exporter = DataExport(optimizer, X_init, Y_init, args)\n",
    "\n",
    "    # optimization\n",
    "    solution = optimizer.solve(X_init, Y_init)\n",
    "\n",
    "    # export true Pareto front to csv\n",
    "#     if true_pfront is not None:\n",
    "#         exporter.write_truefront_csv(true_pfront)\n",
    "\n",
    "    for _ in range(args.n_iter):\n",
    "        # get new design samples and corresponding performance\n",
    "        X_next, Y_next, _ = next(solution)\n",
    "        \n",
    "        # update & export current status to csv\n",
    "        exporter.update(X_next, Y_next)\n",
    "        exporter.write_csvs()\n",
    "\n",
    "    # close logger\n",
    "    if logger is not None:\n",
    "        logger.close()\n",
    "\n",
    "main()\n"
   ]
  },
  {
   "cell_type": "code",
   "execution_count": null,
   "id": "5df427a0-2c7d-4ceb-84d3-03e20d635084",
   "metadata": {},
   "outputs": [],
   "source": []
  },
  {
   "cell_type": "code",
   "execution_count": null,
   "id": "db167565-992b-4abf-a5f5-30d7951d56ca",
   "metadata": {},
   "outputs": [],
   "source": []
  }
 ],
 "metadata": {
  "kernelspec": {
   "display_name": "Python 3",
   "language": "python",
   "name": "python3"
  },
  "language_info": {
   "codemirror_mode": {
    "name": "ipython",
    "version": 3
   },
   "file_extension": ".py",
   "mimetype": "text/x-python",
   "name": "python",
   "nbconvert_exporter": "python",
   "pygments_lexer": "ipython3",
   "version": "3.8.8"
  }
 },
 "nbformat": 4,
 "nbformat_minor": 5
}
