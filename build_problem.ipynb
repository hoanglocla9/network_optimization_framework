{
 "cells": [
  {
   "cell_type": "code",
   "execution_count": 1,
   "id": "5c52a38a-1285-4bb5-ac0e-dd27899a69cc",
   "metadata": {},
   "outputs": [
    {
     "name": "stderr",
     "output_type": "stream",
     "text": [
      "/home/picarib/.local/lib/python3.8/site-packages/tqdm/auto.py:22: TqdmWarning: IProgress not found. Please update jupyter and ipywidgets. See https://ipywidgets.readthedocs.io/en/stable/user_install.html\n",
      "  from .autonotebook import tqdm as notebook_tqdm\n"
     ]
    },
    {
     "name": "stdout",
     "output_type": "stream",
     "text": [
      "Start stage\n",
      "** Start parallel\n",
      "Done stage\n",
      "[[0, 10], [0, 10], [0, 10], [0, 10], [0, 10], [0, 10], [0, 10], [0, 10], [0, 10], [0, 10], [0, 10], [0, 10], [0, 10], [0, 10], [0, 10], [0, 10], [0, 10], [0, 10], [0, 10]]\n"
     ]
    },
    {
     "name": "stderr",
     "output_type": "stream",
     "text": [
      "/home/picarib/.local/lib/python3.8/site-packages/botorch/test_functions/base.py:152: UserWarning: To copy construct from a tensor, it is recommended to use sourceTensor.clone().detach() or sourceTensor.clone().detach().requires_grad_(True), rather than torch.tensor(sourceTensor).\n",
      "  ref_point = torch.tensor(self._ref_point, dtype=torch.float)\n"
     ]
    }
   ],
   "source": [
    "from  problem.network_optimization.topology import NetTopology\n",
    "from problem.network_optimization.problem import *\n",
    "\n",
    "tempCacheInfo = {'Sydney1': {'size': 100, 'type': 'LRU'}, 'Brisbane2': {'size': 100, 'type': 'LRU'}, 'Canberra1': {'size': 100, 'type': 'LRU'}, \\\n",
    "                 'Sydney2': {'size': 100, 'type': 'LRU'}, 'Townsville': {'size': 100, 'type': 'LRU'}, 'Cairns': {'size': 100, 'type': 'LRU'}, \\\n",
    "                 'Brisbane1': {'size': 100, 'type': 'LRU'}, 'Rockhampton': {'size': 100, 'type': 'LRU'}, 'Armidale': {'size': 100, 'type': 'LRU'}, \\\n",
    "                 'Hobart': {'size': 100, 'type': 'LRU'}, 'Canberra2': {'size': 100, 'type': 'LRU'}, 'Perth1': {'size': 100, 'type': 'LRU'}, \\\n",
    "                 'Perth2': {'size': 100, 'type': 'LRU'}, 'Adelaide1': {'size': 100, 'type': 'LRU'}, 'Adelaide2': {'size': 100, 'type': 'LRU'}, \\\n",
    "                 'Melbourne1': {'size': 100, 'type': 'LRU'}, 'Melbourne2': {'size': 100, 'type': 'LRU'}, 'Alice Springs': {'size': 100, 'type': 'LRU'}, \\\n",
    "                 'Darwin': {'size': 100, 'type': 'LRU'}}\n",
    "tkwargs = {\n",
    "    \"dtype\": torch.double,\n",
    "    \"device\": torch.device(\"cuda:0\" if torch.cuda.is_available() else \"cpu\"),\n",
    "}\n",
    "topology = NetTopology('topology/Aarnet.gml', 'Sydney1', cacheDictInfo=tempCacheInfo)\n",
    "problem = CDNOptimizationProblem(topology, runReqNums=1000, tkwargs=tkwargs, dim=len(topology.graph.nodes))\n"
   ]
  },
  {
   "cell_type": "code",
   "execution_count": 4,
   "id": "e0a2d7d9-1122-4192-b37c-b4a15fbe43f0",
   "metadata": {},
   "outputs": [],
   "source": [
    "def generate_cache_info(graph):\n",
    "    result = {}\n",
    "    for node in graph.nodes:\n",
    "        result[node] = {'size': 100, 'type': 'LRU'}\n",
    "    return result\n",
    "print(generate_cache_info(topology.graph))"
   ]
  },
  {
   "cell_type": "code",
   "execution_count": 7,
   "id": "a26a08a9-84ce-430f-a7f2-11cde692a86b",
   "metadata": {},
   "outputs": [
    {
     "name": "stdout",
     "output_type": "stream",
     "text": [
      "topology/VtlWavenet2011.gml\n",
      "92\n"
     ]
    }
   ],
   "source": [
    "import networkx as nx\n",
    "import glob\n",
    "list_file = glob.glob(\"topology/*.gml\")\n",
    "max_topo_len = 0\n",
    "max_topo = None\n",
    "for file in list_file:\n",
    "    try:\n",
    "        graph = nx.read_gml(file)\n",
    "    except:\n",
    "        continue\n",
    "    if max_topo_len < len(graph.nodes):\n",
    "        max_topo_len = len(graph.nodes)\n",
    "        max_topo = file\n",
    "print(max_topo)\n",
    "print(max_topo_len)"
   ]
  },
  {
   "cell_type": "code",
   "execution_count": null,
   "id": "b8cc9d5d-e63a-463d-9354-99da0707e1f2",
   "metadata": {},
   "outputs": [],
   "source": []
  }
 ],
 "metadata": {
  "kernelspec": {
   "display_name": "Python 3 (ipykernel)",
   "language": "python",
   "name": "python3"
  },
  "language_info": {
   "codemirror_mode": {
    "name": "ipython",
    "version": 3
   },
   "file_extension": ".py",
   "mimetype": "text/x-python",
   "name": "python",
   "nbconvert_exporter": "python",
   "pygments_lexer": "ipython3",
   "version": "3.8.10"
  }
 },
 "nbformat": 4,
 "nbformat_minor": 5
}
